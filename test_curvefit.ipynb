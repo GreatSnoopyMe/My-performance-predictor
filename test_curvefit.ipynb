{
 "cells": [
  {
   "cell_type": "code",
   "execution_count": 1,
   "metadata": {},
   "outputs": [],
   "source": [
    "import numpy as np\n",
    "from scipy.optimize import curve_fit, leastsq\n",
    "import matplotlib\n",
    "matplotlib.use('pdf')\n",
    "import matplotlib.pyplot as plt"
   ]
  },
  {
   "cell_type": "code",
   "execution_count": 4,
   "metadata": {},
   "outputs": [
    {
     "name": "stdout",
     "output_type": "stream",
     "text": [
      "1.0\n"
     ]
    }
   ],
   "source": [
    "A = np.ones((10,50))\n",
    "print(A[0,49])"
   ]
  },
  {
   "cell_type": "code",
   "execution_count": null,
   "metadata": {},
   "outputs": [],
   "source": [
    "from scipy.special import loggamma\n",
    "from scipy.special import expit, logit\n",
    "from scipy.optimize import minimize\n",
    "\n",
    "def logLikelihood(params, y, X):\n",
    "    b = np.array(params[0:-1])      # the beta parameters of the regression model\n",
    "    phi = params[-1]                # the phi parameter\n",
    "    mu = expit(np.dot(X,b))\n",
    "   \n",
    "    eps = 1e-6                      # used for safety of the gamma and log functions avoiding inf\n",
    "    res = - np.sum(loggamma(phi+eps) # the log likelihood\n",
    "                   - loggamma(mu*phi+eps) \n",
    "                   - loggamma((1-mu)*phi+eps) \n",
    "                   + (mu*phi-1)*np.log(y+eps) \n",
    "                   + ((1-mu)*phi-1)*np.log(1-y+eps))\n",
    "\n",
    "    return res\n",
    "\n",
    "# initial parameters for optimization\n",
    "phi = 1\n",
    "b0 = 1\n",
    "x0 = np.array([b0,b0,b0,b0,b0,phi])\n",
    "y = \n",
    "X = \n",
    "res = minimize(logLikelihood, x0=x0, args=(y,X), bounds=[(None,None), \n",
    "                                                         (None,None), \n",
    "                                                         (None,None), \n",
    "                                                         (None,None), \n",
    "                                                         (None,None), \n",
    "                                                         (0,None)])"
   ]
  },
  {
   "cell_type": "code",
   "execution_count": 2,
   "metadata": {},
   "outputs": [],
   "source": [
    "y_train = np.loadtxt('learning_curve.txt')\n",
    "x_train = np.arange(50)+1"
   ]
  },
  {
   "cell_type": "code",
   "execution_count": 3,
   "metadata": {},
   "outputs": [],
   "source": [
    "def exp4(x, c, a, b, alpha):\n",
    "    return c - np.exp(-a*(x**alpha)+b)\n",
    "\n",
    "# f = lambda x: exp4(x,c=0.1,a=0.2,b=0.3,alpha = 0.4)"
   ]
  },
  {
   "cell_type": "code",
   "execution_count": 5,
   "metadata": {},
   "outputs": [
    {
     "name": "stdout",
     "output_type": "stream",
     "text": [
      "exp4\n"
     ]
    }
   ],
   "source": [
    "print(str(exp4.__name__))"
   ]
  },
  {
   "cell_type": "code",
   "execution_count": 46,
   "metadata": {},
   "outputs": [
    {
     "name": "stdout",
     "output_type": "stream",
     "text": [
      "[6.06719892e-01 3.68731852e-01 3.23226752e-14 4.51822364e-01]\n"
     ]
    }
   ],
   "source": [
    "# popt, pcov = curve_fit(exp4,xdata=x_train,ydata=y_train,bounds=((0,-np.inf,-np.inf,-np.inf),(1,np.inf,np.inf,np.inf)))\n",
    "\n",
    "popt, pcov = curve_fit(exp4,xdata=x_train,ydata=y_train,bounds=((0),(1)))\n",
    "\n",
    "# bounds=((0,1),(-np.inf,np.inf),(-np.inf,np.inf),(-np.inf,np.inf))\n",
    "\n",
    "\n",
    "\n",
    "print(popt)\n",
    "# print(pcov)"
   ]
  },
  {
   "cell_type": "code",
   "execution_count": 45,
   "metadata": {},
   "outputs": [],
   "source": [
    "plt.plot(x_train,y_train,'b',label='origin')\n",
    "plt.plot(x_train,exp4(x_train,*popt),'r-',label='result')\n",
    "plt.legend()\n",
    "plt.savefig(\"test.png\")\n",
    "plt.close()"
   ]
  }
 ],
 "metadata": {
  "interpreter": {
   "hash": "2dfe10639ca16694cbf9bfb9959821d6c151eb8519ad1ee8bd246d480ab3f52b"
  },
  "kernelspec": {
   "display_name": "Python 3.9.7 ('eecs545')",
   "language": "python",
   "name": "python3"
  },
  "language_info": {
   "codemirror_mode": {
    "name": "ipython",
    "version": 3
   },
   "file_extension": ".py",
   "mimetype": "text/x-python",
   "name": "python",
   "nbconvert_exporter": "python",
   "pygments_lexer": "ipython3",
   "version": "3.9.7"
  },
  "orig_nbformat": 4
 },
 "nbformat": 4,
 "nbformat_minor": 2
}
